{
 "cells": [
  {
   "cell_type": "code",
   "execution_count": 3,
   "metadata": {
    "collapsed": true
   },
   "outputs": [],
   "source": [
    "import numpy as np\n",
    "import time\n",
    "from amc_parser import *\n",
    "import os\n",
    "import sys\n",
    "from pathlib import Path"
   ]
  },
  {
   "cell_type": "code",
   "execution_count": 18,
   "metadata": {
    "collapsed": true
   },
   "outputs": [],
   "source": [
    "#abs_path = os.getcwd()\n",
    "asf_path = 'data\\\\124.asf'\n",
    "asm_path = 'data\\\\124_01.amc'\n",
    "joints = parse_asf(asf_path)"
   ]
  },
  {
   "cell_type": "code",
   "execution_count": 25,
   "metadata": {},
   "outputs": [
    {
     "data": {
      "text/plain": [
       "<amc_parser.Joint at 0x1e612d13cc0>"
      ]
     },
     "execution_count": 25,
     "metadata": {},
     "output_type": "execute_result"
    }
   ],
   "source": [
    "joints['head']"
   ]
  },
  {
   "cell_type": "code",
   "execution_count": 15,
   "metadata": {},
   "outputs": [
    {
     "data": {
      "text/plain": [
       "{'head': <amc_parser.Joint at 0x1e612d0b518>,\n",
       " 'lclavicle': <amc_parser.Joint at 0x1e612d0b550>,\n",
       " 'lfemur': <amc_parser.Joint at 0x1e612d04f28>,\n",
       " 'lfingers': <amc_parser.Joint at 0x1e612d0b6d8>,\n",
       " 'lfoot': <amc_parser.Joint at 0x1e612d04fd0>,\n",
       " 'lhand': <amc_parser.Joint at 0x1e612d0b588>,\n",
       " 'lhipjoint': <amc_parser.Joint at 0x1e612d04e48>,\n",
       " 'lhumerus': <amc_parser.Joint at 0x1e612d0b128>,\n",
       " 'lowerback': <amc_parser.Joint at 0x1e612d0b2e8>,\n",
       " 'lowerneck': <amc_parser.Joint at 0x1e612d0b400>,\n",
       " 'lradius': <amc_parser.Joint at 0x1e612d0b5f8>,\n",
       " 'lthumb': <amc_parser.Joint at 0x1e612d0b630>,\n",
       " 'ltibia': <amc_parser.Joint at 0x1e612d04ef0>,\n",
       " 'ltoes': <amc_parser.Joint at 0x1e612d04f98>,\n",
       " 'lwrist': <amc_parser.Joint at 0x1e612d0b6a0>,\n",
       " 'rclavicle': <amc_parser.Joint at 0x1e612d0b748>,\n",
       " 'rfemur': <amc_parser.Joint at 0x1e612d0b198>,\n",
       " 'rfingers': <amc_parser.Joint at 0x1e612d0b7f0>,\n",
       " 'rfoot': <amc_parser.Joint at 0x1e612d04f60>,\n",
       " 'rhand': <amc_parser.Joint at 0x1e612d0b898>,\n",
       " 'rhipjoint': <amc_parser.Joint at 0x1e612d0b0f0>,\n",
       " 'rhumerus': <amc_parser.Joint at 0x1e612d0b710>,\n",
       " 'root': <amc_parser.Joint at 0x1e612cf9908>,\n",
       " 'rradius': <amc_parser.Joint at 0x1e612d0b860>,\n",
       " 'rthumb': <amc_parser.Joint at 0x1e612d0b940>,\n",
       " 'rtibia': <amc_parser.Joint at 0x1e612d0b240>,\n",
       " 'rtoes': <amc_parser.Joint at 0x1e612d0b320>,\n",
       " 'rwrist': <amc_parser.Joint at 0x1e612d0b908>,\n",
       " 'thorax': <amc_parser.Joint at 0x1e612d0b438>,\n",
       " 'upperback': <amc_parser.Joint at 0x1e612d0b390>,\n",
       " 'upperneck': <amc_parser.Joint at 0x1e612d0b470>}"
      ]
     },
     "execution_count": 15,
     "metadata": {},
     "output_type": "execute_result"
    }
   ],
   "source": [
    "p=Path(abs_path)\n",
    "q = p / 'data/124.asf'\n",
    "#parse_asf(q)"
   ]
  },
  {
   "cell_type": "code",
   "execution_count": null,
   "metadata": {
    "collapsed": true
   },
   "outputs": [],
   "source": []
  }
 ],
 "metadata": {
  "kernelspec": {
   "display_name": "Python 3",
   "language": "python",
   "name": "python3"
  },
  "language_info": {
   "codemirror_mode": {
    "name": "ipython",
    "version": 3
   },
   "file_extension": ".py",
   "mimetype": "text/x-python",
   "name": "python",
   "nbconvert_exporter": "python",
   "pygments_lexer": "ipython3",
   "version": "3.6.1"
  }
 },
 "nbformat": 4,
 "nbformat_minor": 2
}
